{
  "nbformat": 4,
  "nbformat_minor": 0,
  "metadata": {
    "colab": {
      "provenance": []
    },
    "kernelspec": {
      "name": "python3",
      "display_name": "Python 3"
    },
    "language_info": {
      "name": "python"
    }
  },
  "cells": [
    {
      "cell_type": "code",
      "source": [
        "!pip install catboost"
      ],
      "metadata": {
        "colab": {
          "base_uri": "https://localhost:8080/"
        },
        "id": "KrCrvGHYe5MX",
        "outputId": "233349c8-fa2d-44ae-e99e-a73a5b0d25f3"
      },
      "execution_count": 9,
      "outputs": [
        {
          "output_type": "stream",
          "name": "stdout",
          "text": [
            "Requirement already satisfied: catboost in /usr/local/lib/python3.10/dist-packages (1.2.7)\n",
            "Requirement already satisfied: graphviz in /usr/local/lib/python3.10/dist-packages (from catboost) (0.20.3)\n",
            "Requirement already satisfied: matplotlib in /usr/local/lib/python3.10/dist-packages (from catboost) (3.7.1)\n",
            "Requirement already satisfied: numpy<2.0,>=1.16.0 in /usr/local/lib/python3.10/dist-packages (from catboost) (1.26.4)\n",
            "Requirement already satisfied: pandas>=0.24 in /usr/local/lib/python3.10/dist-packages (from catboost) (2.2.2)\n",
            "Requirement already satisfied: scipy in /usr/local/lib/python3.10/dist-packages (from catboost) (1.13.1)\n",
            "Requirement already satisfied: plotly in /usr/local/lib/python3.10/dist-packages (from catboost) (5.24.1)\n",
            "Requirement already satisfied: six in /usr/local/lib/python3.10/dist-packages (from catboost) (1.16.0)\n",
            "Requirement already satisfied: python-dateutil>=2.8.2 in /usr/local/lib/python3.10/dist-packages (from pandas>=0.24->catboost) (2.8.2)\n",
            "Requirement already satisfied: pytz>=2020.1 in /usr/local/lib/python3.10/dist-packages (from pandas>=0.24->catboost) (2024.2)\n",
            "Requirement already satisfied: tzdata>=2022.7 in /usr/local/lib/python3.10/dist-packages (from pandas>=0.24->catboost) (2024.2)\n",
            "Requirement already satisfied: contourpy>=1.0.1 in /usr/local/lib/python3.10/dist-packages (from matplotlib->catboost) (1.3.0)\n",
            "Requirement already satisfied: cycler>=0.10 in /usr/local/lib/python3.10/dist-packages (from matplotlib->catboost) (0.12.1)\n",
            "Requirement already satisfied: fonttools>=4.22.0 in /usr/local/lib/python3.10/dist-packages (from matplotlib->catboost) (4.54.1)\n",
            "Requirement already satisfied: kiwisolver>=1.0.1 in /usr/local/lib/python3.10/dist-packages (from matplotlib->catboost) (1.4.7)\n",
            "Requirement already satisfied: packaging>=20.0 in /usr/local/lib/python3.10/dist-packages (from matplotlib->catboost) (24.1)\n",
            "Requirement already satisfied: pillow>=6.2.0 in /usr/local/lib/python3.10/dist-packages (from matplotlib->catboost) (10.4.0)\n",
            "Requirement already satisfied: pyparsing>=2.3.1 in /usr/local/lib/python3.10/dist-packages (from matplotlib->catboost) (3.2.0)\n",
            "Requirement already satisfied: tenacity>=6.2.0 in /usr/local/lib/python3.10/dist-packages (from plotly->catboost) (9.0.0)\n"
          ]
        }
      ]
    },
    {
      "cell_type": "code",
      "source": [
        "import pandas as pd\n",
        "import numpy as np\n",
        "\n",
        "data_test = pd.read_parquet('test.parquet')\n",
        "submission = pd.read_csv('sample_submission.csv')"
      ],
      "metadata": {
        "id": "t9DKWDg5fAun"
      },
      "execution_count": 10,
      "outputs": []
    },
    {
      "cell_type": "code",
      "source": [
        "from datetime import date, datetime\n",
        "\n",
        "def extract_features(row):\n",
        "  dates = row['dates']\n",
        "  values = row['values']\n",
        "\n",
        "  features = {\n",
        "      'start_date': int(datetime(dates[0].year, dates[0].month, dates[0].day).timestamp()),\n",
        "      'end_date': int(datetime(dates[-1].year, dates[-1].month, dates[-1].day).timestamp()),\n",
        "      'days_streak': (dates[-1] - dates[0]).days,\n",
        "      'mean_value': np.mean(values),\n",
        "      'std_value': np.std(values),\n",
        "      'sum_value': np.sum(values),\n",
        "      'min_value': np.min(values),\n",
        "      'max_value': np.max(values)\n",
        "      }\n",
        "  return pd.Series(features)\n",
        "\n",
        "def extract_columns(data):\n",
        "  return data.apply(extract_features, axis=1)"
      ],
      "metadata": {
        "id": "Rs0beH6mhJOM"
      },
      "execution_count": 11,
      "outputs": []
    },
    {
      "cell_type": "code",
      "execution_count": 12,
      "metadata": {
        "id": "3Pga8leQeiFJ"
      },
      "outputs": [],
      "source": [
        "from catboost import CatBoostClassifier\n",
        "import joblib\n",
        "\n",
        "scaler_filename = \"scaler.save\"\n",
        "scaler = joblib.load(scaler_filename)\n",
        "\n",
        "data_test = pd.read_parquet('test.parquet')\n",
        "\n",
        "model = CatBoostClassifier()\n",
        "model.load_model('model.cbm')\n",
        "\n",
        "modified_test = extract_columns(data_test)\n",
        "modified_test[modified_test.columns] = scaler.transform(modified_test[modified_test.columns])\n",
        "y_pred = model.predict_proba(modified_test)\n",
        "\n",
        "submission['score'] = y_pred\n",
        "submission.to_csv('submission.csv', index=False)"
      ]
    }
  ]
}